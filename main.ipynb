{
 "cells": [
  {
   "cell_type": "code",
   "execution_count": 1,
   "id": "8f60e831-0dcd-46b5-92b4-a439621fef1c",
   "metadata": {},
   "outputs": [
    {
     "name": "stdout",
     "output_type": "stream",
     "text": [
      "\n",
      "Welcome to the Online Car Rental Platform\n",
      "1. Display available cars\n",
      "2. Rent cars hourly ($5 per hour)\n",
      "3. Rent cars daily ($20 per day)\n",
      "4. Rent cars weekly ($60 per week)\n",
      "5. Return cars\n",
      "6. Exit\n"
     ]
    },
    {
     "name": "stdin",
     "output_type": "stream",
     "text": [
      "Enter your choice:  1\n"
     ]
    },
    {
     "name": "stdout",
     "output_type": "stream",
     "text": [
      "We have 50 car(s) available to rent.\n",
      "\n",
      "Welcome to the Online Car Rental Platform\n",
      "1. Display available cars\n",
      "2. Rent cars hourly ($5 per hour)\n",
      "3. Rent cars daily ($20 per day)\n",
      "4. Rent cars weekly ($60 per week)\n",
      "5. Return cars\n",
      "6. Exit\n"
     ]
    },
    {
     "name": "stdin",
     "output_type": "stream",
     "text": [
      "Enter your choice:  2\n",
      "How many cars would you like to rent hourly?  3\n"
     ]
    },
    {
     "name": "stdout",
     "output_type": "stream",
     "text": [
      "You have rented 3 car(s) on an hourly basis.\n",
      "\n",
      "Welcome to the Online Car Rental Platform\n",
      "1. Display available cars\n",
      "2. Rent cars hourly ($5 per hour)\n",
      "3. Rent cars daily ($20 per day)\n",
      "4. Rent cars weekly ($60 per week)\n",
      "5. Return cars\n",
      "6. Exit\n"
     ]
    },
    {
     "name": "stdin",
     "output_type": "stream",
     "text": [
      "Enter your choice:  1\n"
     ]
    },
    {
     "name": "stdout",
     "output_type": "stream",
     "text": [
      "We have 47 car(s) available to rent.\n",
      "\n",
      "Welcome to the Online Car Rental Platform\n",
      "1. Display available cars\n",
      "2. Rent cars hourly ($5 per hour)\n",
      "3. Rent cars daily ($20 per day)\n",
      "4. Rent cars weekly ($60 per week)\n",
      "5. Return cars\n",
      "6. Exit\n"
     ]
    },
    {
     "name": "stdin",
     "output_type": "stream",
     "text": [
      "Enter your choice:  5\n"
     ]
    },
    {
     "name": "stdout",
     "output_type": "stream",
     "text": [
      "Your bill is $0.07. Thank you for returning the car(s)!\n",
      "\n",
      "Welcome to the Online Car Rental Platform\n",
      "1. Display available cars\n",
      "2. Rent cars hourly ($5 per hour)\n",
      "3. Rent cars daily ($20 per day)\n",
      "4. Rent cars weekly ($60 per week)\n",
      "5. Return cars\n",
      "6. Exit\n"
     ]
    },
    {
     "name": "stdin",
     "output_type": "stream",
     "text": [
      "Enter your choice:  1\n"
     ]
    },
    {
     "name": "stdout",
     "output_type": "stream",
     "text": [
      "We have 50 car(s) available to rent.\n",
      "\n",
      "Welcome to the Online Car Rental Platform\n",
      "1. Display available cars\n",
      "2. Rent cars hourly ($5 per hour)\n",
      "3. Rent cars daily ($20 per day)\n",
      "4. Rent cars weekly ($60 per week)\n",
      "5. Return cars\n",
      "6. Exit\n"
     ]
    },
    {
     "name": "stdin",
     "output_type": "stream",
     "text": [
      "Enter your choice:  3\n",
      "How many cars would you like to rent daily?  4\n"
     ]
    },
    {
     "name": "stdout",
     "output_type": "stream",
     "text": [
      "You have rented 4 car(s) on a daily basis.\n",
      "\n",
      "Welcome to the Online Car Rental Platform\n",
      "1. Display available cars\n",
      "2. Rent cars hourly ($5 per hour)\n",
      "3. Rent cars daily ($20 per day)\n",
      "4. Rent cars weekly ($60 per week)\n",
      "5. Return cars\n",
      "6. Exit\n"
     ]
    },
    {
     "name": "stdin",
     "output_type": "stream",
     "text": [
      "Enter your choice:  1\n"
     ]
    },
    {
     "name": "stdout",
     "output_type": "stream",
     "text": [
      "We have 46 car(s) available to rent.\n",
      "\n",
      "Welcome to the Online Car Rental Platform\n",
      "1. Display available cars\n",
      "2. Rent cars hourly ($5 per hour)\n",
      "3. Rent cars daily ($20 per day)\n",
      "4. Rent cars weekly ($60 per week)\n",
      "5. Return cars\n",
      "6. Exit\n"
     ]
    },
    {
     "name": "stdin",
     "output_type": "stream",
     "text": [
      "Enter your choice:  5\n"
     ]
    },
    {
     "name": "stdout",
     "output_type": "stream",
     "text": [
      "Your bill is $0.00. Thank you for returning the car(s)!\n",
      "\n",
      "Welcome to the Online Car Rental Platform\n",
      "1. Display available cars\n",
      "2. Rent cars hourly ($5 per hour)\n",
      "3. Rent cars daily ($20 per day)\n",
      "4. Rent cars weekly ($60 per week)\n",
      "5. Return cars\n",
      "6. Exit\n"
     ]
    },
    {
     "name": "stdin",
     "output_type": "stream",
     "text": [
      "Enter your choice:  4\n",
      "How many cars would you like to rent weekly?  2\n"
     ]
    },
    {
     "name": "stdout",
     "output_type": "stream",
     "text": [
      "You have rented 2 car(s) on a weekly basis.\n",
      "\n",
      "Welcome to the Online Car Rental Platform\n",
      "1. Display available cars\n",
      "2. Rent cars hourly ($5 per hour)\n",
      "3. Rent cars daily ($20 per day)\n",
      "4. Rent cars weekly ($60 per week)\n",
      "5. Return cars\n",
      "6. Exit\n"
     ]
    },
    {
     "name": "stdin",
     "output_type": "stream",
     "text": [
      "Enter your choice:  1\n"
     ]
    },
    {
     "name": "stdout",
     "output_type": "stream",
     "text": [
      "We have 48 car(s) available to rent.\n",
      "\n",
      "Welcome to the Online Car Rental Platform\n",
      "1. Display available cars\n",
      "2. Rent cars hourly ($5 per hour)\n",
      "3. Rent cars daily ($20 per day)\n",
      "4. Rent cars weekly ($60 per week)\n",
      "5. Return cars\n",
      "6. Exit\n"
     ]
    },
    {
     "name": "stdin",
     "output_type": "stream",
     "text": [
      "Enter your choice:  5\n"
     ]
    },
    {
     "name": "stdout",
     "output_type": "stream",
     "text": [
      "Your bill is $0.00. Thank you for returning the car(s)!\n",
      "\n",
      "Welcome to the Online Car Rental Platform\n",
      "1. Display available cars\n",
      "2. Rent cars hourly ($5 per hour)\n",
      "3. Rent cars daily ($20 per day)\n",
      "4. Rent cars weekly ($60 per week)\n",
      "5. Return cars\n",
      "6. Exit\n"
     ]
    },
    {
     "name": "stdin",
     "output_type": "stream",
     "text": [
      "Enter your choice:  1\n"
     ]
    },
    {
     "name": "stdout",
     "output_type": "stream",
     "text": [
      "We have 50 car(s) available to rent.\n",
      "\n",
      "Welcome to the Online Car Rental Platform\n",
      "1. Display available cars\n",
      "2. Rent cars hourly ($5 per hour)\n",
      "3. Rent cars daily ($20 per day)\n",
      "4. Rent cars weekly ($60 per week)\n",
      "5. Return cars\n",
      "6. Exit\n"
     ]
    },
    {
     "name": "stdin",
     "output_type": "stream",
     "text": [
      "Enter your choice:  6\n"
     ]
    },
    {
     "name": "stdout",
     "output_type": "stream",
     "text": [
      "Thank you for using the Online Car Rental Platform!\n"
     ]
    }
   ],
   "source": [
    "# Main project file: main_project.ipynb\n",
    "from Car_Rental import Car_Rental\n",
    "from Car_Rental import Customer\n",
    "\n",
    "def main():\n",
    "    rental_shop = Car_Rental(50)\n",
    "    customer = Customer()\n",
    "\n",
    "    while True:\n",
    "        print(\"\\nWelcome to the Online Car Rental Platform\")\n",
    "        print(\"1. Display available cars\")\n",
    "        print(\"2. Rent cars hourly ($5 per hour)\")\n",
    "        print(\"3. Rent cars daily ($20 per day)\")\n",
    "        print(\"4. Rent cars weekly ($60 per week)\")\n",
    "        print(\"5. Return cars\")\n",
    "        print(\"6. Exit\")\n",
    "\n",
    "        choice = int(input(\"Enter your choice: \"))\n",
    "\n",
    "        if choice == 1:\n",
    "            print(rental_shop.display_cars())\n",
    "\n",
    "        elif choice == 2:\n",
    "            cars = int(input(\"How many cars would you like to rent hourly? \"))\n",
    "            rental_time, message = rental_shop.rent_hourly(cars)\n",
    "            customer.rental_time = rental_time\n",
    "            customer.rental_mode = 'hourly'\n",
    "            customer.cars_rented = cars\n",
    "            print(message)\n",
    "\n",
    "        elif choice == 3:\n",
    "            cars = int(input(\"How many cars would you like to rent daily? \"))\n",
    "            rental_time, message = rental_shop.rent_daily(cars)\n",
    "            customer.rental_time = rental_time\n",
    "            customer.rental_mode = 'daily'\n",
    "            customer.cars_rented = cars\n",
    "            print(message)\n",
    "\n",
    "        elif choice == 4:\n",
    "            cars = int(input(\"How many cars would you like to rent weekly? \"))\n",
    "            rental_time, message = rental_shop.rent_weekly(cars)\n",
    "            customer.rental_time = rental_time\n",
    "            customer.rental_mode = 'weekly'\n",
    "            customer.cars_rented = cars\n",
    "            print(message)\n",
    "\n",
    "        elif choice == 5:\n",
    "            rental_details = customer.return_car()\n",
    "            if isinstance(rental_details, tuple):\n",
    "                rental_time, rental_mode, num_of_cars = rental_details\n",
    "                print(rental_shop.return_car(rental_time, rental_mode, num_of_cars))\n",
    "            else:\n",
    "                print(rental_details)\n",
    "\n",
    "        elif choice == 6:\n",
    "            print(\"Thank you for using the Online Car Rental Platform!\")\n",
    "            break\n",
    "\n",
    "        else:\n",
    "            print(\"Invalid choice. Please try again.\")\n",
    "\n",
    "if __name__ == \"__main__\":\n",
    "    main()"
   ]
  },
  {
   "cell_type": "code",
   "execution_count": null,
   "id": "7c82ab95-bd6f-43f1-bf79-2c5d433d42c1",
   "metadata": {},
   "outputs": [],
   "source": []
  }
 ],
 "metadata": {
  "kernelspec": {
   "display_name": "Python 3 (ipykernel)",
   "language": "python",
   "name": "python3"
  },
  "language_info": {
   "codemirror_mode": {
    "name": "ipython",
    "version": 3
   },
   "file_extension": ".py",
   "mimetype": "text/x-python",
   "name": "python",
   "nbconvert_exporter": "python",
   "pygments_lexer": "ipython3",
   "version": "3.12.7"
  }
 },
 "nbformat": 4,
 "nbformat_minor": 5
}
